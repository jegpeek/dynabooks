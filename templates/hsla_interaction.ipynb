{
 "cells": [
  {
   "cell_type": "code",
   "execution_count": null,
   "metadata": {},
   "outputs": [],
   "source": [
    "import os\n",
    "import urllib.request"
   ]
  },
  {
   "cell_type": "code",
   "execution_count": null,
   "metadata": {},
   "outputs": [],
   "source": [
    "name = '{{ NAME }}'\n",
    "hsla_tarball_url = \"https://archive.stsci.edu/missions/hst/spectral_legacy/datapile_05-15-2018_COS/\" + name + \"/\" + name + \"_target.tar.gz\"\n",
    "hsla_tarball = name + \"_target.tar\"\n",
    "gzipball, headers = urllib.request.urlretrieve(hsla_tarball_url, filename=hsla_gzipped)\n",
    "!gunzip $hsla_tarball\n",
    "!tar -xvf $hsla_tarball"
   ]
  },
  {
   "cell_type": "markdown",
   "metadata": {},
   "source": [
    "## Now you should have some images, tables, and fits files in your pwd\n"
   ]
  },
  {
   "cell_type": "code",
   "execution_count": null,
   "metadata": {},
   "outputs": [],
   "source": []
  }
 ],
 "metadata": {
  "kernelspec": {
   "display_name": "Python 3",
   "language": "python",
   "name": "python3"
  },
  "language_info": {
   "codemirror_mode": {
    "name": "ipython",
    "version": 3
   },
   "file_extension": ".py",
   "mimetype": "text/x-python",
   "name": "python",
   "nbconvert_exporter": "python",
   "pygments_lexer": "ipython3",
   "version": "3.5.5"
  }
 },
 "nbformat": 4,
 "nbformat_minor": 2
}
